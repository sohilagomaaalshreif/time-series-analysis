{
 "cells": [
  {
   "cell_type": "markdown",
   "metadata": {},
   "source": [
    "# Time Analysis prediction \n",
    "\n",
    "using the regrssion techniques can you predict the future of the stock market based on the history of it ?\n",
    "\n",
    "![Time analysis](https://magoosh.com/statistics/files/2018/05/time_series.png)\n",
    "\n",
    "it would be great to predict one day in the future, one month and one year !"
   ]
  },
  {
   "cell_type": "code",
   "execution_count": 74,
   "metadata": {
    "ExecuteTime": {
     "end_time": "2020-02-25T15:01:10.007137Z",
     "start_time": "2020-02-25T15:01:09.999146Z"
    }
   },
   "outputs": [],
   "source": [
    "import pandas as pd\n",
    "from sklearn.linear_model import LinearRegression\n",
    "from datetime import datetime\n",
    "import matplotlib.pyplot as plt\n",
    "import matplotlib.gridspec as gridspec\n",
    "%matplotlib inline"
   ]
  },
  {
   "cell_type": "code",
   "execution_count": 75,
   "metadata": {
    "ExecuteTime": {
     "end_time": "2020-02-25T15:01:10.580605Z",
     "start_time": "2020-02-25T15:01:10.010135Z"
    }
   },
   "outputs": [
    {
     "data": {
      "text/html": [
       "<div>\n",
       "<style scoped>\n",
       "    .dataframe tbody tr th:only-of-type {\n",
       "        vertical-align: middle;\n",
       "    }\n",
       "\n",
       "    .dataframe tbody tr th {\n",
       "        vertical-align: top;\n",
       "    }\n",
       "\n",
       "    .dataframe thead th {\n",
       "        text-align: right;\n",
       "    }\n",
       "</style>\n",
       "<table border=\"1\" class=\"dataframe\">\n",
       "  <thead>\n",
       "    <tr style=\"text-align: right;\">\n",
       "      <th></th>\n",
       "      <th>Time</th>\n",
       "      <th>Open</th>\n",
       "      <th>High</th>\n",
       "      <th>Low</th>\n",
       "      <th>Close</th>\n",
       "      <th>Volume</th>\n",
       "    </tr>\n",
       "  </thead>\n",
       "  <tbody>\n",
       "    <tr>\n",
       "      <th>0</th>\n",
       "      <td>2010-01-01 00:00</td>\n",
       "      <td>1.43283</td>\n",
       "      <td>1.43293</td>\n",
       "      <td>1.43224</td>\n",
       "      <td>1.43293</td>\n",
       "      <td>608600007.1</td>\n",
       "    </tr>\n",
       "    <tr>\n",
       "      <th>1</th>\n",
       "      <td>2010-01-01 00:15</td>\n",
       "      <td>1.43285</td>\n",
       "      <td>1.43295</td>\n",
       "      <td>1.43229</td>\n",
       "      <td>1.43275</td>\n",
       "      <td>535600003.2</td>\n",
       "    </tr>\n",
       "    <tr>\n",
       "      <th>2</th>\n",
       "      <td>2010-01-01 00:30</td>\n",
       "      <td>1.43280</td>\n",
       "      <td>1.43303</td>\n",
       "      <td>1.43239</td>\n",
       "      <td>1.43281</td>\n",
       "      <td>436299999.2</td>\n",
       "    </tr>\n",
       "    <tr>\n",
       "      <th>3</th>\n",
       "      <td>2010-01-01 00:45</td>\n",
       "      <td>1.43285</td>\n",
       "      <td>1.43294</td>\n",
       "      <td>1.43229</td>\n",
       "      <td>1.43276</td>\n",
       "      <td>614299997.3</td>\n",
       "    </tr>\n",
       "    <tr>\n",
       "      <th>4</th>\n",
       "      <td>2010-01-01 01:00</td>\n",
       "      <td>1.43287</td>\n",
       "      <td>1.43292</td>\n",
       "      <td>1.43206</td>\n",
       "      <td>1.43282</td>\n",
       "      <td>705300008.8</td>\n",
       "    </tr>\n",
       "    <tr>\n",
       "      <th>...</th>\n",
       "      <td>...</td>\n",
       "      <td>...</td>\n",
       "      <td>...</td>\n",
       "      <td>...</td>\n",
       "      <td>...</td>\n",
       "      <td>...</td>\n",
       "    </tr>\n",
       "    <tr>\n",
       "      <th>245439</th>\n",
       "      <td>2016-12-31 22:45</td>\n",
       "      <td>1.05150</td>\n",
       "      <td>1.05150</td>\n",
       "      <td>1.05150</td>\n",
       "      <td>1.05150</td>\n",
       "      <td>0.0</td>\n",
       "    </tr>\n",
       "    <tr>\n",
       "      <th>245440</th>\n",
       "      <td>2016-12-31 23:00</td>\n",
       "      <td>1.05150</td>\n",
       "      <td>1.05150</td>\n",
       "      <td>1.05150</td>\n",
       "      <td>1.05150</td>\n",
       "      <td>0.0</td>\n",
       "    </tr>\n",
       "    <tr>\n",
       "      <th>245441</th>\n",
       "      <td>2016-12-31 23:15</td>\n",
       "      <td>1.05150</td>\n",
       "      <td>1.05150</td>\n",
       "      <td>1.05150</td>\n",
       "      <td>1.05150</td>\n",
       "      <td>0.0</td>\n",
       "    </tr>\n",
       "    <tr>\n",
       "      <th>245442</th>\n",
       "      <td>2016-12-31 23:30</td>\n",
       "      <td>1.05150</td>\n",
       "      <td>1.05150</td>\n",
       "      <td>1.05150</td>\n",
       "      <td>1.05150</td>\n",
       "      <td>0.0</td>\n",
       "    </tr>\n",
       "    <tr>\n",
       "      <th>245443</th>\n",
       "      <td>2016-12-31 23:45</td>\n",
       "      <td>1.05150</td>\n",
       "      <td>1.05150</td>\n",
       "      <td>1.05150</td>\n",
       "      <td>1.05150</td>\n",
       "      <td>0.0</td>\n",
       "    </tr>\n",
       "  </tbody>\n",
       "</table>\n",
       "<p>245444 rows × 6 columns</p>\n",
       "</div>"
      ],
      "text/plain": [
       "                    Time     Open     High      Low    Close       Volume\n",
       "0       2010-01-01 00:00  1.43283  1.43293  1.43224  1.43293  608600007.1\n",
       "1       2010-01-01 00:15  1.43285  1.43295  1.43229  1.43275  535600003.2\n",
       "2       2010-01-01 00:30  1.43280  1.43303  1.43239  1.43281  436299999.2\n",
       "3       2010-01-01 00:45  1.43285  1.43294  1.43229  1.43276  614299997.3\n",
       "4       2010-01-01 01:00  1.43287  1.43292  1.43206  1.43282  705300008.8\n",
       "...                  ...      ...      ...      ...      ...          ...\n",
       "245439  2016-12-31 22:45  1.05150  1.05150  1.05150  1.05150          0.0\n",
       "245440  2016-12-31 23:00  1.05150  1.05150  1.05150  1.05150          0.0\n",
       "245441  2016-12-31 23:15  1.05150  1.05150  1.05150  1.05150          0.0\n",
       "245442  2016-12-31 23:30  1.05150  1.05150  1.05150  1.05150          0.0\n",
       "245443  2016-12-31 23:45  1.05150  1.05150  1.05150  1.05150          0.0\n",
       "\n",
       "[245444 rows x 6 columns]"
      ]
     },
     "execution_count": 75,
     "metadata": {},
     "output_type": "execute_result"
    }
   ],
   "source": [
    "dataset = pd.read_csv(\"../dataset/EURUSD_15m.csv\")\n",
    "dataset"
   ]
  },
  {
   "cell_type": "code",
   "execution_count": 76,
   "metadata": {
    "ExecuteTime": {
     "end_time": "2020-02-25T15:01:10.806397Z",
     "start_time": "2020-02-25T15:01:10.583602Z"
    }
   },
   "outputs": [
    {
     "data": {
      "text/html": [
       "<div>\n",
       "<style scoped>\n",
       "    .dataframe tbody tr th:only-of-type {\n",
       "        vertical-align: middle;\n",
       "    }\n",
       "\n",
       "    .dataframe tbody tr th {\n",
       "        vertical-align: top;\n",
       "    }\n",
       "\n",
       "    .dataframe thead th {\n",
       "        text-align: right;\n",
       "    }\n",
       "</style>\n",
       "<table border=\"1\" class=\"dataframe\">\n",
       "  <thead>\n",
       "    <tr style=\"text-align: right;\">\n",
       "      <th></th>\n",
       "      <th>Open</th>\n",
       "      <th>High</th>\n",
       "      <th>Low</th>\n",
       "      <th>Close</th>\n",
       "      <th>Volume</th>\n",
       "    </tr>\n",
       "    <tr>\n",
       "      <th>Time</th>\n",
       "      <th></th>\n",
       "      <th></th>\n",
       "      <th></th>\n",
       "      <th></th>\n",
       "      <th></th>\n",
       "    </tr>\n",
       "  </thead>\n",
       "  <tbody>\n",
       "    <tr>\n",
       "      <th>2010-01-01 00:00:00</th>\n",
       "      <td>1.43283</td>\n",
       "      <td>1.43293</td>\n",
       "      <td>1.43224</td>\n",
       "      <td>1.43293</td>\n",
       "      <td>608600007.1</td>\n",
       "    </tr>\n",
       "    <tr>\n",
       "      <th>2010-01-01 00:15:00</th>\n",
       "      <td>1.43285</td>\n",
       "      <td>1.43295</td>\n",
       "      <td>1.43229</td>\n",
       "      <td>1.43275</td>\n",
       "      <td>535600003.2</td>\n",
       "    </tr>\n",
       "    <tr>\n",
       "      <th>2010-01-01 00:30:00</th>\n",
       "      <td>1.43280</td>\n",
       "      <td>1.43303</td>\n",
       "      <td>1.43239</td>\n",
       "      <td>1.43281</td>\n",
       "      <td>436299999.2</td>\n",
       "    </tr>\n",
       "    <tr>\n",
       "      <th>2010-01-01 00:45:00</th>\n",
       "      <td>1.43285</td>\n",
       "      <td>1.43294</td>\n",
       "      <td>1.43229</td>\n",
       "      <td>1.43276</td>\n",
       "      <td>614299997.3</td>\n",
       "    </tr>\n",
       "    <tr>\n",
       "      <th>2010-01-01 01:00:00</th>\n",
       "      <td>1.43287</td>\n",
       "      <td>1.43292</td>\n",
       "      <td>1.43206</td>\n",
       "      <td>1.43282</td>\n",
       "      <td>705300008.8</td>\n",
       "    </tr>\n",
       "  </tbody>\n",
       "</table>\n",
       "</div>"
      ],
      "text/plain": [
       "                        Open     High      Low    Close       Volume\n",
       "Time                                                                \n",
       "2010-01-01 00:00:00  1.43283  1.43293  1.43224  1.43293  608600007.1\n",
       "2010-01-01 00:15:00  1.43285  1.43295  1.43229  1.43275  535600003.2\n",
       "2010-01-01 00:30:00  1.43280  1.43303  1.43239  1.43281  436299999.2\n",
       "2010-01-01 00:45:00  1.43285  1.43294  1.43229  1.43276  614299997.3\n",
       "2010-01-01 01:00:00  1.43287  1.43292  1.43206  1.43282  705300008.8"
      ]
     },
     "execution_count": 76,
     "metadata": {},
     "output_type": "execute_result"
    }
   ],
   "source": [
    "dataset['Time'] = pd.to_datetime(dataset['Time'])\n",
    "dataset.set_index('Time', inplace=True)\n",
    "dataset.head()"
   ]
  },
  {
   "cell_type": "code",
   "execution_count": 77,
   "metadata": {
    "ExecuteTime": {
     "end_time": "2020-02-25T15:01:10.876330Z",
     "start_time": "2020-02-25T15:01:10.809394Z"
    }
   },
   "outputs": [
    {
     "data": {
      "text/plain": [
       "96"
      ]
     },
     "execution_count": 77,
     "metadata": {},
     "output_type": "execute_result"
    }
   ],
   "source": [
    "day_reads = len(dataset['2011-1-1'])\n",
    "day_reads"
   ]
  },
  {
   "cell_type": "code",
   "execution_count": 78,
   "metadata": {
    "ExecuteTime": {
     "end_time": "2020-02-25T15:01:11.000216Z",
     "start_time": "2020-02-25T15:01:10.878330Z"
    }
   },
   "outputs": [
    {
     "data": {
      "text/html": [
       "<div>\n",
       "<style scoped>\n",
       "    .dataframe tbody tr th:only-of-type {\n",
       "        vertical-align: middle;\n",
       "    }\n",
       "\n",
       "    .dataframe tbody tr th {\n",
       "        vertical-align: top;\n",
       "    }\n",
       "\n",
       "    .dataframe thead th {\n",
       "        text-align: right;\n",
       "    }\n",
       "</style>\n",
       "<table border=\"1\" class=\"dataframe\">\n",
       "  <thead>\n",
       "    <tr style=\"text-align: right;\">\n",
       "      <th></th>\n",
       "      <th>Open</th>\n",
       "      <th>High</th>\n",
       "      <th>Low</th>\n",
       "      <th>Close</th>\n",
       "    </tr>\n",
       "    <tr>\n",
       "      <th>Time</th>\n",
       "      <th></th>\n",
       "      <th></th>\n",
       "      <th></th>\n",
       "      <th></th>\n",
       "    </tr>\n",
       "  </thead>\n",
       "  <tbody>\n",
       "    <tr>\n",
       "      <th>2016-12-31 22:45:00</th>\n",
       "      <td>1.0515</td>\n",
       "      <td>1.0515</td>\n",
       "      <td>1.0515</td>\n",
       "      <td>NaN</td>\n",
       "    </tr>\n",
       "    <tr>\n",
       "      <th>2016-12-31 23:00:00</th>\n",
       "      <td>1.0515</td>\n",
       "      <td>1.0515</td>\n",
       "      <td>1.0515</td>\n",
       "      <td>NaN</td>\n",
       "    </tr>\n",
       "    <tr>\n",
       "      <th>2016-12-31 23:15:00</th>\n",
       "      <td>1.0515</td>\n",
       "      <td>1.0515</td>\n",
       "      <td>1.0515</td>\n",
       "      <td>NaN</td>\n",
       "    </tr>\n",
       "    <tr>\n",
       "      <th>2016-12-31 23:30:00</th>\n",
       "      <td>1.0515</td>\n",
       "      <td>1.0515</td>\n",
       "      <td>1.0515</td>\n",
       "      <td>NaN</td>\n",
       "    </tr>\n",
       "    <tr>\n",
       "      <th>2016-12-31 23:45:00</th>\n",
       "      <td>1.0515</td>\n",
       "      <td>1.0515</td>\n",
       "      <td>1.0515</td>\n",
       "      <td>NaN</td>\n",
       "    </tr>\n",
       "  </tbody>\n",
       "</table>\n",
       "</div>"
      ],
      "text/plain": [
       "                       Open    High     Low  Close\n",
       "Time                                              \n",
       "2016-12-31 22:45:00  1.0515  1.0515  1.0515    NaN\n",
       "2016-12-31 23:00:00  1.0515  1.0515  1.0515    NaN\n",
       "2016-12-31 23:15:00  1.0515  1.0515  1.0515    NaN\n",
       "2016-12-31 23:30:00  1.0515  1.0515  1.0515    NaN\n",
       "2016-12-31 23:45:00  1.0515  1.0515  1.0515    NaN"
      ]
     },
     "execution_count": 78,
     "metadata": {},
     "output_type": "execute_result"
    }
   ],
   "source": [
    "forecast_out = day_reads*7             # predicting 1 week into future\n",
    "dataset['Close'] = dataset['Close'].shift(-forecast_out)\n",
    "dataset = dataset.iloc[:,:-1]\n",
    "dataset.tail()"
   ]
  },
  {
   "cell_type": "code",
   "execution_count": 79,
   "metadata": {
    "ExecuteTime": {
     "end_time": "2020-02-25T15:01:11.128100Z",
     "start_time": "2020-02-25T15:01:11.003214Z"
    }
   },
   "outputs": [],
   "source": [
    "features_train = dataset.iloc[:-forecast_out,:-1]\n",
    "goal_train = dataset.iloc[:-forecast_out,-1]"
   ]
  },
  {
   "cell_type": "markdown",
   "metadata": {},
   "source": [
    "### Machine Learning Model"
   ]
  },
  {
   "cell_type": "code",
   "execution_count": 84,
   "metadata": {
    "ExecuteTime": {
     "end_time": "2020-02-25T15:01:11.744527Z",
     "start_time": "2020-02-25T15:01:11.598662Z"
    }
   },
   "outputs": [],
   "source": [
    "from sklearn.model_selection import train_test_split\n",
    "train_set, test_set, goal_train, goal_test = train_test_split(features_train,goal_train,test_size = 0.2,random_state=0)"
   ]
  },
  {
   "cell_type": "code",
   "execution_count": 85,
   "metadata": {
    "ExecuteTime": {
     "end_time": "2020-02-25T15:01:11.840437Z",
     "start_time": "2020-02-25T15:01:11.746525Z"
    }
   },
   "outputs": [
    {
     "data": {
      "text/plain": [
       "0.9776096297040977"
      ]
     },
     "execution_count": 85,
     "metadata": {},
     "output_type": "execute_result"
    }
   ],
   "source": [
    "from sklearn.linear_model import LinearRegression\n",
    "from \n",
    "\n",
    "LR = LinearRegression()\n",
    "LR.fit(train_set,goal_train)\n",
    "LR.score(test_set,goal_test)"
   ]
  },
  {
   "cell_type": "code",
   "execution_count": 86,
   "metadata": {
    "ExecuteTime": {
     "end_time": "2020-02-25T15:01:12.263044Z",
     "start_time": "2020-02-25T15:01:11.842435Z"
    }
   },
   "outputs": [
    {
     "name": "stdout",
     "output_type": "stream",
     "text": [
      "accuracy mean:  0.9774838725642878\n",
      "accuracy std:  0.00033015051635409173\n"
     ]
    }
   ],
   "source": [
    "from sklearn.model_selection import cross_val_score\n",
    "accuracies = cross_val_score(estimator = LR, X = train_set, y = goal_train, cv = 10)\n",
    "print(\"accuracy mean: \",accuracies.mean())\n",
    "print(\"accuracy std: \",accuracies.std())"
   ]
  },
  {
   "cell_type": "code",
   "execution_count": null,
   "metadata": {},
   "outputs": [],
   "source": []
  }
 ],
 "metadata": {
  "kernelspec": {
   "display_name": "Python 3",
   "language": "python",
   "name": "python3"
  },
  "language_info": {
   "codemirror_mode": {
    "name": "ipython",
    "version": 3
   },
   "file_extension": ".py",
   "mimetype": "text/x-python",
   "name": "python",
   "nbconvert_exporter": "python",
   "pygments_lexer": "ipython3",
   "version": "3.7.3"
  },
  "varInspector": {
   "cols": {
    "lenName": 16,
    "lenType": 16,
    "lenVar": 40
   },
   "kernels_config": {
    "python": {
     "delete_cmd_postfix": "",
     "delete_cmd_prefix": "del ",
     "library": "var_list.py",
     "varRefreshCmd": "print(var_dic_list())"
    },
    "r": {
     "delete_cmd_postfix": ") ",
     "delete_cmd_prefix": "rm(",
     "library": "var_list.r",
     "varRefreshCmd": "cat(var_dic_list()) "
    }
   },
   "types_to_exclude": [
    "module",
    "function",
    "builtin_function_or_method",
    "instance",
    "_Feature"
   ],
   "window_display": false
  }
 },
 "nbformat": 4,
 "nbformat_minor": 4
}
